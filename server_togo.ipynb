{
 "cells": [
  {
   "cell_type": "code",
   "execution_count": 1,
   "id": "8fad7259",
   "metadata": {},
   "outputs": [],
   "source": [
    "import cv2\n",
    "import socket\n",
    "import pickle\n",
    "import numpy as np\n",
    "import struct\n",
    "import time\n",
    "import os\n",
    "import json\n"
   ]
  },
  {
   "cell_type": "code",
   "execution_count": 2,
   "id": "d66621ca",
   "metadata": {},
   "outputs": [],
   "source": [
    "import cv2\n",
    "import requests\n",
    "import time\n",
    "import os\n",
    "\n",
    "def main():\n",
    "    print(\"시작\")\n",
    "    capture = cv2.VideoCapture(0)\n",
    "\n",
    "    # 비디오 작성을 위한 설정\n",
    "    fourcc = cv2.VideoWriter_fourcc(*'mp4v')  # MP4 형식\n",
    "    fps = 30  # 프레임 속도\n",
    "    output_filename = 'output.mp4'\n",
    "    out = cv2.VideoWriter(output_filename, fourcc, fps, (640, 480))  # 비디오 파일 이름과 크기 설정\n",
    "\n",
    "    start_time = time.time()\n",
    "    \n",
    "    \n",
    "    while True:\n",
    "        s_c_time = time.time()\n",
    "#         print(\"wwwwwwwwwwww\")\n",
    "        ret, frame = capture.read()\n",
    "        if not ret:\n",
    "            break\n",
    "        \n",
    "#         # 프레임 리사이즈\n",
    "#         frame = cv2.resize(frame, (1920, 800))\n",
    "        \n",
    "        # 프레임을 비디오 파일에 저장\n",
    "        out.write(frame)\n",
    "\n",
    "        # 1초마다 비디오 파일 전송\n",
    "        if time.time() - start_time >= 2:\n",
    "            out.release()  # 현재 비디오 파일 저장 종료\n",
    "\n",
    "            # 서버에 비디오 파일 전송\n",
    "            with open(output_filename, 'rb') as f:\n",
    "                response = requests.post('http://223.195.111.28:50010/api/process', files={'video': f})\n",
    "                \n",
    "            # 서버의 응답 처리\n",
    "            if response.ok:\n",
    "                result = response.json()\n",
    "                print(result)\n",
    "            \n",
    "                if result == '1':  # 서버에서 1을 반환한 경우\n",
    "                    blink_detected = True\n",
    "                    print(\"깜빡임 감지됨!\")\n",
    "            e_c_time = time.time()\n",
    "            print(f\"총 걸린시간 : {e_c_time - s_c_time}\")\n",
    "            \n",
    "            \n",
    "            # 새로운 비디오 파일 생성\n",
    "            out = cv2.VideoWriter(output_filename, fourcc, fps, (640, 480))\n",
    "            start_time = time.time()  # 타이머 리셋\n",
    "\n",
    "        cv2.imshow('Webcam', frame)\n",
    "        if cv2.waitKey(1) & 0xFF == ord('q'):\n",
    "            break\n",
    "\n",
    "    capture.release()\n",
    "    out.release()  # 비디오 파일 저장 종료\n",
    "    cv2.destroyAllWindows()"
   ]
  },
  {
   "cell_type": "code",
   "execution_count": 1,
   "id": "4e4cba65",
   "metadata": {},
   "outputs": [],
   "source": [
    "main()"
   ]
  },
  {
   "cell_type": "code",
   "execution_count": null,
   "id": "25fda8d9",
   "metadata": {},
   "outputs": [],
   "source": []
  },
  {
   "cell_type": "code",
   "execution_count": null,
   "id": "77ea4a9b",
   "metadata": {},
   "outputs": [],
   "source": []
  }
 ],
 "metadata": {
  "kernelspec": {
   "display_name": "Python 3 (ipykernel)",
   "language": "python",
   "name": "python3"
  },
  "language_info": {
   "codemirror_mode": {
    "name": "ipython",
    "version": 3
   },
   "file_extension": ".py",
   "mimetype": "text/x-python",
   "name": "python",
   "nbconvert_exporter": "python",
   "pygments_lexer": "ipython3",
   "version": "3.11.5"
  }
 },
 "nbformat": 4,
 "nbformat_minor": 5
}
